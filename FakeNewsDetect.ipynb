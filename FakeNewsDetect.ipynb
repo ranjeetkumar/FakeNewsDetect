{
 "cells": [
  {
   "cell_type": "code",
   "execution_count": null,
   "metadata": {},
   "outputs": [],
   "source": [
    "from newsapi import NewsApiClient\n",
    "import random\n"
   ]
  },
  {
   "cell_type": "code",
   "execution_count": null,
   "metadata": {},
   "outputs": [],
   "source": [
    "from datetime import datetime, timedelta\n",
    "prev_date = datetime.today() - timedelta(days=30)\n",
    "next_date = datetime.today() - timedelta(days=0)\n",
    "p_date = str(prev_date.year)+'-'+str(prev_date.month)+'-'+str(prev_date.day)\n",
    "c_date = str(next_date.year)+'-'+str(next_date.month)+'-'+str(next_date.day)\n",
    "if prev_date.month < 10:\n",
    "    p_date = str(prev_date.year)+'-0'+str(prev_date.month)+'-'+str(prev_date.day)\n",
    "else:\n",
    "    p_date = str(prev_date.year)+'-'+str(prev_date.month)+'-'+str(prev_date.day)\n",
    "\n",
    "if next_date.month < 10:\n",
    "    c_date = str(next_date.year)+'-0'+str(next_date.month)+'-'+str(next_date.day)\n",
    "else:\n",
    "    c_date = str(next_date.year)+'-'+str(next_date.month)+'-'+str(next_date.day)\n",
    "\n",
    "#https://newsapi.org/\n",
    "newsapi = NewsApiClient(api_key='your keys')\n",
    "def getNews(sourceId):\n",
    "    newses = newsapi.get_everything(sources=sourceId,domains='bbc.co.uk,techcrunch.com',from_param=prev_date,to=next_date,language='en',sort_by='relevancy',page=2)\n",
    "    newsData = []\n",
    "    for news in newses['articles']:\n",
    "        list = [random.randint(0, 1000), news['title'],news['content'], 'REAL']\n",
    "        newsData.append(list)\n",
    "    return newsData"
   ]
  },
  {
   "cell_type": "code",
   "execution_count": null,
   "metadata": {},
   "outputs": [],
   "source": [
    "sources = newsapi.get_sources()\n",
    "sourceList = []\n",
    "for source in sources['sources']:\n",
    "    sourceList.append(source['id'])\n",
    "del sourceList[10:len(sourceList)]\n",
    "print('New Sources: ', sourceList)"
   ]
  },
  {
   "cell_type": "code",
   "execution_count": null,
   "metadata": {},
   "outputs": [],
   "source": [
    "dataList = []\n",
    "for sourceId in sourceList:\n",
    "    newses = getNews(sourceId)\n",
    "    dataList = dataList + newses\n",
    "\n",
    "print('Total News: ', len(dataList))"
   ]
  },
  {
   "cell_type": "code",
   "execution_count": null,
   "metadata": {},
   "outputs": [],
   "source": [
    "import pandas as pd\n",
    "df = pd.DataFrame.from_records(dataList)\n",
    "df.columns = ['','title','text','label']\n",
    "print(df.head())"
   ]
  },
  {
   "cell_type": "code",
   "execution_count": null,
   "metadata": {},
   "outputs": [],
   "source": [
    "trainData = pd.read_csv('news.csv')\n",
    "trainData.columns = ['', 'title', 'text', 'label']\n",
    "data = [trainData, df]\n",
    "df = pd.concat(data)\n",
    "print(df.head())"
   ]
  },
  {
   "cell_type": "code",
   "execution_count": null,
   "metadata": {},
   "outputs": [],
   "source": [
    "from sklearn.model_selection import train_test_split\n",
    "from sklearn.metrics import accuracy_score\n",
    "from sklearn.feature_extraction.text import CountVectorizer\n",
    "from sklearn.linear_model import PassiveAggressiveClassifier"
   ]
  },
  {
   "cell_type": "code",
   "execution_count": null,
   "metadata": {},
   "outputs": [],
   "source": [
    "training_x, testing_x, training_y, testing_y = train_test_split(\n",
    "    df['text'], df.label, test_size=0.3, random_state=7)"
   ]
  },
  {
   "cell_type": "code",
   "execution_count": null,
   "metadata": {},
   "outputs": [],
   "source": [
    "count_vectorizer = CountVectorizer(stop_words='english', max_df=0.7)\n",
    "feature_train = count_vectorizer.fit_transform(training_x)\n",
    "feature_test = count_vectorizer.transform(testing_x)"
   ]
  },
  {
   "cell_type": "code",
   "execution_count": null,
   "metadata": {},
   "outputs": [],
   "source": [
    "classifier = PassiveAggressiveClassifier(max_iter=50)\n",
    "classifier.fit(feature_train, training_y)"
   ]
  },
  {
   "cell_type": "code",
   "execution_count": null,
   "metadata": {},
   "outputs": [],
   "source": [
    "prediction = classifier.predict(feature_test)\n",
    "score = accuracy_score(testing_y, prediction)\n",
    "\n",
    "print(\"Accuracy: \", score*100)"
   ]
  },
  {
   "cell_type": "code",
   "execution_count": null,
   "metadata": {},
   "outputs": [],
   "source": [
    "test_data = pd.read_csv('test_data.csv')\n",
    "test_labels = test_data.label\n",
    "test_data.head()"
   ]
  },
  {
   "cell_type": "code",
   "execution_count": null,
   "metadata": {},
   "outputs": [],
   "source": [
    "test_data_feature = count_vectorizer.transform(test_data['text'])\n",
    "prediction = classifier.predict(test_data_feature)\n"
   ]
  },
  {
   "cell_type": "code",
   "execution_count": null,
   "metadata": {},
   "outputs": [],
   "source": [
    "for i in range(len(test_labels)):\n",
    "    print(test_labels[i], prediction[i])\n",
    "\n",
    "score = accuracy_score(test_labels, prediction)\n",
    "print(\"Accuracy: \", score*100, \"%\")"
   ]
  }
 ],
 "metadata": {
  "language_info": {
   "name": "python"
  }
 },
 "nbformat": 4,
 "nbformat_minor": 2
}
